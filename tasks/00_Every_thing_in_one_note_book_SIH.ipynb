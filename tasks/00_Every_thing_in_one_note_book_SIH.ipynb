{
 "cells": [
  {
   "cell_type": "markdown",
   "metadata": {},
   "source": [
    "Participant Details\n",
    "\n",
    "Title=   \"Phd scholar\"\"\n",
    "\n",
    "Name= \"Syeda Iqra Hassan\"\n",
    "\n",
    "Email id= \"iqrahassan34@gmail.com\"\n",
    "\n",
    "whatsap no= \"03312006193\""
   ]
  },
  {
   "cell_type": "code",
   "execution_count": null,
   "metadata": {
    "vscode": {
     "languageId": "plaintext"
    }
   },
   "outputs": [],
   "source": []
  }
 ],
 "metadata": {
  "language_info": {
   "name": "python"
  },
  "orig_nbformat": 4
 },
 "nbformat": 4,
 "nbformat_minor": 2
}
